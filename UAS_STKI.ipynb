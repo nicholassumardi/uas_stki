{
 "cells": [
  {
   "cell_type": "code",
   "execution_count": 1,
   "metadata": {},
   "outputs": [],
   "source": [
    "import requests\n",
    "from bs4 import BeautifulSoup\n",
    "# Make a request to the website\n",
    "r = requests.get('https://bola.kompas.com/')\n",
    "# Create an object to parse the HTML format\n",
    "soup = BeautifulSoup(r.content, 'html.parser')\n",
    "# Retrieve all popular news links (Fig. 1)\n",
    "link = []\n",
    "for i in soup.find('div', {'class':'most__wrap'}).find_all('a'):\n",
    "    i['href'] = i['href'] + '?page=all'\n",
    "    link.append(i['href'])\n",
    "# For each link, we retrieve paragraphs from it, combine each paragraph as one string, and save it to documents (Fig. 2)\n",
    "documents = []\n",
    "for i in link:\n",
    "    # Make a request to the link\n",
    "    r = requests.get(i)\n",
    "  \n",
    "    # Initialize BeautifulSoup object to parse the content \n",
    "    soup = BeautifulSoup(r.content, 'html.parser')\n",
    "  \n",
    "    # Retrieve all paragraphs and combine it as one\n",
    "    sen = []\n",
    "    for i in soup.find('div', {'class':'read__content'}).find_all('p'):\n",
    "        sen.append(i.text)\n",
    "  \n",
    "    # Add the combined paragraphs to documents\n",
    "    documents.append(' '.join(sen))"
   ]
  },
  {
   "cell_type": "code",
   "execution_count": 5,
   "metadata": {},
   "outputs": [],
   "source": [
    "import re\n",
    "import string\n",
    "documents_clean = []\n",
    "for d in documents:\n",
    "    # Remove Unicode\n",
    "    document_test = re.sub(r'[^\\x00-\\x7F]+', ' ', d)\n",
    "    # Remove Mentions\n",
    "    document_test = re.sub(r'@\\w+', '', document_test)\n",
    "    # Lowercase the document\n",
    "    document_test = document_test.lower()\n",
    "    # Remove punctuations\n",
    "    document_test = re.sub(r'[%s]' % re.escape(string.punctuation), ' ', document_test)\n",
    "    # Lowercase the numbers\n",
    "    document_test = re.sub(r'[0-9]', '', document_test)\n",
    "    # Remove the doubled space\n",
    "    document_test = re.sub(r'\\s{2,}', ' ', document_test)\n",
    "    documents_clean.append(document_test)"
   ]
  },
  {
   "cell_type": "code",
   "execution_count": 10,
   "metadata": {},
   "outputs": [],
   "source": [
    "from sklearn.feature_extraction.text import TfidfVectorizer\n",
    "import pandas as pd\n",
    "# Instantiate a TfidfVectorizer object\n",
    "vectorizer = TfidfVectorizer()\n",
    "# It fits the data and transform it as a vector\n",
    "X = vectorizer.fit_transform(documents_clean)\n",
    "# Convert the X as transposed matrix\n",
    "X = X.T.toarray()\n",
    "# Create a DataFrame and set the vocabulary as the index\n",
    "df = pd.DataFrame(X, index=vectorizer.get_feature_names())"
   ]
  },
  {
   "cell_type": "code",
   "execution_count": 13,
   "metadata": {},
   "outputs": [
    {
     "name": "stdout",
     "output_type": "stream",
     "text": [
      "query: barcelona\n",
      "Berikut artikel dengan nilai cosine similarity tertinggi: \n",
      "Nilai Similaritas: 0.03563796820899613\n",
      "kompas com lionel messi berpeluang memecahkan rekor legenda timnas brasil pele saat memimpin argentina melawan kolombia di semifinal copa america laga timnas argentina vs kolombia akan dihelat di estadio nacional de brasilia rabu pagi wib pada pertandingan tersebut lionel messi berpeluang memecahkan rekor gol pele di level tim nasional la pulga julukan messi sejauh ini telah mencetak empat gol di copa america perolehan itu membuat pundi pundi messi bersama tim tango sebutan untuk timnas argentina bertambah menjadi gol di seluruh ajang baca juga argentina ke semifinal copa america messi lampaui gol free kick cr catatan gol membuat messi mendekati rekor pele sebagai pemain tersubur di level timnas yang dicetak oleh pemain amerika selatan zona conmebol dapatkan informasi inspirasi dan insight di email kamu daftarkan email pele hingga kini masih memegang rekor tersebut dengan raihan gol bersama timnas brasil artinya la pulga butuh satu gol lagi di timnas argentina untuk menyamai rekor itu atau dua gol tambahan guna melewati catatan pele messi pun memiliki kans besar untuk menyamai atau memecahkan rekor pele dalam laga argentina vs kolombia di semifinal copa america pasalnya performa messi tengah panas sebanyak empat gol sudah dibuat sang megabintang di copa america dan membuatnya menjadi top skor turnamen sejauh ini lionel messi scores his th career goal for argentina and is now shy of pel for the most goals by a south american player in men s senior international history record break loading pic twitter com vhefoyb penyerang berusia tahun itu bertengger sendirian di puncak top skor unggul dua buah dari sejumlah pesaing terdekat termasuk neymar brasil yang baru mengemas sepasang gol messi juga memuncaki daftar top assist dengan empat umpan berbuah gol tak ayal la pulga berpeluang menjadi top skor maupun pemain terbaik copa america namun lionel messi mengaku tak peduli dengan prestasi individu itu meski peluang untuk mendapatkannya sangat besar pemain yang kontraknya sudah habis bersama barcelona ini hanya ingin fokus mengantar timnas argentina juara copa america seperti yang selalu saya katakan meraih penghargaan individu bukan tujuan utama saya kata lionel messi dikutip dari marca kami di sini berjuang untuk sesuatu yang lebih besar juara kami para pemain sudah terpisah cukup lama dengan keluarga kami memiliki tujuan dan ingin mewujudkan itu tuturnya menjelaskan \n",
      "\n",
      "Nilai Similaritas: 0.033079419261997284\n",
      "kompas com italia dan spanyol selaku dua tim unggulan piala eropa bakal berhadapan pada semifinal euro laga italia vs spanyol itu dijadwalkan berlangsung di stadion wembley london inggris pada rabu dini hari wib dalam menyambut laga hidup mati ini italia kehilangan salah satu pemain penting yakni leonardo spinazzola bek kiri yang memiliki peran krusial di balik perjalanan italia menuju semifinal euro itu mengalami cedera saat berjuang pada laga perempat final kontra belgia juli lalu baca juga prediksi italia vs spanyol la roja inferior azzurri vince e convince leonardo spinazzola dilaporkan mengalami cedera tendon achilles dan harus menepi sekitar enam bulan alhasil dia tak bisa melanjutkan perjuangan bersama timnas italia pada sisa euro dapatkan informasi inspirasi dan insight di email kamu daftarkan email sementara itu italia harus berjuang tanpa kehadiran spinazzola yang disebut baru menjalani operasi di finlandia pada senin situasi ini memaksa pelatih timnas italia roberto mancini membuat pergantian di posisi bek kiri baca juga jadwal semifinal euro hari ini big match italia vs spanyol apabila melihat komposisi pemain di skuad italia roberto mancini diprediksi menunjuk emerson untuk mengisi posisi tersebut menggantikan spinazzola pada pergelaran euro emerson pernah bermain penuh mengisi posisi bek kiri pada laga terakhir fase grup kontra wales kala itu italia sudah mengantongi enam poin dan roberto mancini merombak sebagian besar line up gli azzurri emerson kemudian diplot sebagai bek kiri dan mengistirahatkan spinazzola baca juga prediksi italia vs spanyol mourinho sebut gli azzurri lebih kuat tetapi selanjutnya emerson juga menjadi pengganti spinazzola yang cedera pada babak kedua kontra belgia melalui dua kesempatan tersebut terlihat bahwa emerson berperan sebagai pelapis spinazzola bek chelsea itu kemungkinan besar akan kembali mendapat kepercayaan dari roberto mancini saat bersua spanyol di semifinal euro saat italia kehilangan spinazzola spanyol juga terancam tampil tanpa salah satu pemain andalan pablo sarabia baca juga janji leonardo spinazzola jika italia kalahkan spanyol di semifinal euro di laman resmi uefa tertulis bahwa sarabia diragukan tampil karena mengalami cedera pada euro sarabia telah menyumbangkan dua gol dari lima penampilan namun dia hanya bermain satu babak ketika bersua swiss pada perempat final juli lalu sarabia disebut mengalami cedera otot sehingga terancam absen ketika menghadapi italia di semifinal baca juga live match link live streaming italia vs spanyol dini hari nanti situasi ini menjadi peluang bagi pemain jebolan akademi barcelona yang kini bermain untuk rb leipzig dani olmo dani olmo selalu menjadi pengganti sarabia pada dua pertandingan terakhir dia pun selalu memberikan dampak positif kedua kesempatan tersebut oleh karena itu dia diprediksi akan bermain sejak awal pada laga kontra italia menggantikan peran sarabia yang masih diragukan untuk tampil dani olmo bisa memanfaatkan kesempatan ini untuk memberikan dampak positif sejak awal laga baca juga italia vs spanyol chiesa tak sabar lawan morata di semifinal euro italia donnarumma gk di lorenzo bonucci chiellini emerson barella jorginho verratti chiesa immobile insigne pelatih roberto mancini spanyol simon gk azpilicueta pau torres laporte alba koke busquets pedri f torres morata olmo pelatih luis enrique \n",
      "\n"
     ]
    }
   ],
   "source": [
    "import numpy as np\n",
    "def get_similar_articles(q, df):\n",
    "  print(\"query:\", q)\n",
    "  print(\"Berikut artikel dengan nilai cosine similarity tertinggi: \")\n",
    "  # Convert the query become a vector\n",
    "  q = [q]\n",
    "  q_vec = vectorizer.transform(q).toarray().reshape(df.shape[0],)\n",
    "  sim = {}\n",
    "  # Calculate the similarity\n",
    "  for i in range(10):\n",
    "    sim[i] = np.dot(df.loc[:, i].values, q_vec) / np.linalg.norm(df.loc[:, i]) * np.linalg.norm(q_vec)\n",
    "  \n",
    "  # Sort the values \n",
    "  sim_sorted = sorted(sim.items(), key=lambda x: x[1], reverse=True)\n",
    "  # Print the articles and their similarity values\n",
    "  for k, v in sim_sorted:\n",
    "    if v != 0.0:\n",
    "      print(\"Nilai Similaritas:\", v)\n",
    "      print(documents_clean[k])\n",
    "      print()\n",
    "# Add The Query\n",
    "q1 = 'barcelona'\n",
    "# Call the function\n",
    "get_similar_articles(q1, df)"
   ]
  },
  {
   "cell_type": "code",
   "execution_count": null,
   "metadata": {},
   "outputs": [],
   "source": []
  }
 ],
 "metadata": {
  "kernelspec": {
   "display_name": "Python 3",
   "language": "python",
   "name": "python3"
  },
  "language_info": {
   "codemirror_mode": {
    "name": "ipython",
    "version": 3
   },
   "file_extension": ".py",
   "mimetype": "text/x-python",
   "name": "python",
   "nbconvert_exporter": "python",
   "pygments_lexer": "ipython3",
   "version": "3.8.5"
  }
 },
 "nbformat": 4,
 "nbformat_minor": 4
}
