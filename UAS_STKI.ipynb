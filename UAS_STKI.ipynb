{
 "cells": [
  {
   "cell_type": "code",
   "execution_count": 1,
   "metadata": {},
   "outputs": [],
   "source": [
    "import requests\n",
    "from bs4 import BeautifulSoup\n",
    "# Make a request to the website\n",
    "r = requests.get('https://bola.kompas.com/')\n",
    "# Create an object to parse the HTML format\n",
    "soup = BeautifulSoup(r.content, 'html.parser')\n",
    "# Retrieve all popular news links (Fig. 1)\n",
    "link = []\n",
    "for i in soup.find('div', {'class':'most__wrap'}).find_all('a'):\n",
    "    i['href'] = i['href'] + '?page=all'\n",
    "    link.append(i['href'])\n",
    "# For each link, we retrieve paragraphs from it, combine each paragraph as one string, and save it to documents (Fig. 2)\n",
    "documents = []\n",
    "for i in link:\n",
    "    # Make a request to the link\n",
    "    r = requests.get(i)\n",
    "  \n",
    "    # Initialize BeautifulSoup object to parse the content \n",
    "    soup = BeautifulSoup(r.content, 'html.parser')\n",
    "  \n",
    "    # Retrieve all paragraphs and combine it as one\n",
    "    sen = []\n",
    "    for i in soup.find('div', {'class':'read__content'}).find_all('p'):\n",
    "        sen.append(i.text)\n",
    "  \n",
    "    # Add the combined paragraphs to documents\n",
    "    documents.append(' '.join(sen))"
   ]
  },
  {
   "cell_type": "code",
   "execution_count": 2,
   "metadata": {},
   "outputs": [],
   "source": [
    "import re\n",
    "import string\n",
    "documents_clean = []\n",
    "for d in documents:\n",
    "    # Remove Unicode\n",
    "    document_test = re.sub(r'[^\\x00-\\x7F]+', ' ', d)\n",
    "    # Remove Mentions\n",
    "    document_test = re.sub(r'@\\w+', '', document_test)\n",
    "    # Lowercase the document\n",
    "    document_test = document_test.lower()\n",
    "    # Remove punctuations\n",
    "    document_test = re.sub(r'[%s]' % re.escape(string.punctuation), ' ', document_test)\n",
    "    # Lowercase the numbers\n",
    "    document_test = re.sub(r'[0-9]', '', document_test)\n",
    "    # Remove the doubled space\n",
    "    document_test = re.sub(r'\\s{2,}', ' ', document_test)\n",
    "    documents_clean.append(document_test)"
   ]
  },
  {
   "cell_type": "code",
   "execution_count": 3,
   "metadata": {},
   "outputs": [],
   "source": [
    "from sklearn.feature_extraction.text import TfidfVectorizer\n",
    "import pandas as pd\n",
    "# Instantiate a TfidfVectorizer object\n",
    "vectorizer = TfidfVectorizer()\n",
    "# It fits the data and transform it as a vector\n",
    "X = vectorizer.fit_transform(documents_clean)\n",
    "# Convert the X as transposed matrix\n",
    "X = X.T.toarray()\n",
    "# Create a DataFrame and set the vocabulary as the index\n",
    "df = pd.DataFrame(X, index=vectorizer.get_feature_names())"
   ]
  },
  {
   "cell_type": "code",
   "execution_count": 5,
   "metadata": {},
   "outputs": [
    {
     "name": "stdout",
     "output_type": "stream",
     "text": [
      "barcelona\n",
      "query: barcelona\n",
      "Berikut artikel dengan nilai cosine similarity tertinggi: \n",
      "Nilai Similaritas: 0.20037908391661044\n",
      "kompas com fans barcelona boleh berbahagia setelah media lokal paris le parisien melaporkan pada selasa kalau kubu paris saint germain telah melempar bendera putih terkait pengejaran ke lionel messi lionel messi telah menarik hati kubu paris saint germain sepanjang musim lalu dengan kontrak sang mega bintang yang berakhir pada usai musim pada desember bintang paris neymar jr mengungkapkan hasratnya untuk kembali bermain dalam satu tim dengan lionel messi hal tersebut neymar curahkan ketika berbicara dengan espn setelah psg mengalahkan manchester united di old traffod pada laga lanjutan liga champions saya ingin bermain dengan messi sekali lagi katanya seusai pertandingan itulah yang paling saya inginkan saya benar benar ingin menikmati sepak bola bersamanya messi lagi tuturnya yang pasti tahun depan kami harus melakukannya kata neymar baca juga kandidat peraih ballon dor lionel messi ada cristiano ronaldo dapatkan informasi inspirasi dan insight di email kamu daftarkan email ketika itu barcelona berada dalam kondisi buruk setelah mantan presiden josep maria bartomeu meninggalkan klub dalam kondisi penuh hutang psg dikatakan telah meraba raba ketertarikan sang kapten timnas argentina untuk datang ke kubu paris dan meningkatkan usahanya selama beberapa minggu terakhir akan tetapi kabar terkini dari kubu paris tertentu tentu membuat tenang hati para fans terhadap sang mega bintang yang kini kontraknya sudah berakhir bersama barcelona tersebut masa depan messi sendiri kini masih abu abu setelah klub tak kunjung mengumumkan perpanjangan kontraknya namun presiden baru joan laporta berulang kali menenangkan para suporter dengan mengatakan kalau pembaruan kontrak sang megabintang masih berada dalam jalur benar beberapa ganjalan yang sampai sekarang belum bisa dilewati barca terkait dengan kondisi kesehatan klub yang juga masih belum ideal apalagi di era pandemi baca juga koeman harap harap cemas tunggu messi teken kontrak baru di barcelona barcelona masih harus memangkas beban gaji skuad bermain mereka demi mengakomodasi kontrak baru messi beberapa konsekuensi lanjutan dari habisnya kontrak sang mega bintang adalah barcelona tak akan melindungi messi lagi bila ia cedera asuransi medis barca tak bisa melindungi messi apabila ia cedera di copa america suatu hal yang terjadi pada fase fase akhir turnamen dengan pelatih lionel scaloni mengakui sang kapten turun dengan cedera hamstring pada semifinal dan final federasi sepak bola argentina pun akan menanggung beban perawatan messi barca juga tak dapat memakai messi dalam kampanye mereka untuk musim depan dan juga menjual jersey dengan nama messi di toko resmi klub menurut kabar dari mundo deportivo leo messi masih ingin bermain dua musim lagi bersama kubu barca sebelum mencoba perutungan di mls sekaligus menjadi duta barcelona di amerika serikat hal ini dikonfirmasi oleh pakar transfer eropa fabrizio romano yang melaporkan la pulga akan menambah masa baktinya di barca selama dua tahun \n",
      "\n",
      "Nilai Similaritas: 0.05406679389950773\n",
      "kompas com musim telah usai bersamaan dengan berakhirnya dua turnamen internasional euro dan copa america kini pembicaraan beralih ke ballon d or penghargaan sepak bola individu itu sempat ditiadakan pada akibat pandemi covid namun award yang diprakarsai oleh majalah france football itu diadakan lagi pada dan pemenangnya akan diumumkan pada desember mendatang ada lima kandidat kuat peraih ballon d or menurut media spanyol marca menariknya mereka tidak memasukkan nama cristiano ronaldo tanpa banyak basa basi berikut lima nama calon kuat peraih ballon d or baca juga ballon dor ronaldo luput messi favorit siapa kandidat lain mauro pimentel lionel messi memegang trofi top skor copa america setelah timnas argentina mengalahkan brasil di final yang bergulir di stadion maracana pada minggu pagi hari wib dapatkan informasi inspirasi dan insight di email kamu daftarkan email nama satu ini sudah tidak perlu dipertanyakan lagi sepanjang lionel messi sudah berjasa untuk klubnya barcelona dan juga timnas argentina messi mengantarkan barcelona meraih copa del rey dia juga menjadi top skor liga spanyol dengan gol yang ditorehkannya bersama timnas argentina la pulga baru saja mengangkat trofi copa america gelar itu merupakan yang pertama bagi albiceleste sejak lionel messi juga memborong gelar pribadi pribadi copa america dia menjadi top skor turnamen pemberi assist terbanyak dan memenangi gelar pemain terbaik messi menjadi top skor dengan torehan empat gol bersama dengan penyerang kolombia luis diaz baca juga messi usai argentina juara copa america tuhan simpan momen ini untuk saya akan tetapi messi lebih unggul dari diaz dengan menyumbang lima assist di turnamen ini terbanyak di satu edisi copa america sepanjang sejarah afp justin tallis gelandang italia jorginho berselebrasi setelah mencetak gol kemenangan dalam adu penalti selama pertandingan semifinal euro antara italia vs spanyol di stadion wembley di london pada juli gelandang berusia tahun ini baru saja meraih gelar ganda di eropa bersama chelsea jorginho menjuarai liga champions pemain berdarah brasil itu juga baru saja mengantarkan timnas italia juara euro yang merupakan gelar kedua gli azzurri setelah valerio pennicino uefa roma italia juli penyerang inggris harry kane melakukan selebrasi usai membuat gol ke gawang ukraina dalam laga perempat final euro di stadion olimpico roma pada juli seandainya saja timnas inggris juara euro mungkin harry kane menjadi yang paling favorit untuk memenagi gelar ballon d or sayangnya inggris harus kandas di partai final dari italia sementara kane mengakhiri piala eropa dengan mencetak total empat gol hanya tertinggal dari top skor turnamen cristiano ronaldo gol baca juga rashford dkk dapat serangan rasial harry kane kecam suporter inggris namun sepanjang harry kane telah menunjukkan kualitasnya sebagai nomor mematikan dia mencetak total gol sebanyak gol di antaranya dibukukan kane di premier league yang menjadikan dirinya sebagai top skor kompetisi afp sven hoppe penyerang bayern muenchen robert lewandowski menjadi pencetak gol terbanyak pada bundesliga musim lewandowski tampil tajam musim lalu bomber bayern muenchen mencetak total gol di bundesliga yang merupakan rekor dalam satu musim kompetisi produktivitasnya juga berhasil mengantarkan bayern juara liga jerman dan menjuarai piala dunia antarklub afp andreas solaro duet bek tengah timnas italia leonardo bonucci dan giorgio chiellini ballon d or mungkin trofi yang sulit didapat chiellini namun penampilan bek juventus itu di euro bersama timnas italia layak mendapatkan pengakuan serius baca juga giorgio chiellini di usia senja cedera parah bangkit lalu pimpin italia juara euro bek veteran tahun itu membangun tembok di samping leonardo bonucci dan di depan gianluigi donnarumma italia tidak mungkin menjuarai euro tanpa dia sebagai informasi tidak ada bek yang meraih ballon d or sejak terakhir kali fabio cannavaro memenanginya pada usai mengantarkan italia juara dunia pada tahun tersebut \n",
      "\n",
      "Nilai Similaritas: 0.018334217258344155\n",
      "kompas com uefa telah merilis pemain terbaik euro menariknya mereka tidak memasukkan nama cristiano ronaldo ini cukup mengherankan karena kapten timnas portugal itu adalah top skor turnamen dengan koleksi lima gol penyerang republik ceko patrik schick juga tidak masuk dalam daftar tersebut meski dia juga setajam ronaldo kedua pemain tersubur uefa itu masih kalah saing dengan romelu lukaku belgia dan raheem sterling inggris namun uefa tentu memiliki pertimbangan tersendiri mengapa ronaldo dan schick tidak masuk dalam daftar pemain terbaik lalu siapa saja yang masuk ke best versi uefa berikut daftarnya baca juga pengakuan bonucci suporter inggris mencemooh lagu kebangsaan italia dapatkan informasi inspirasi dan insight di email kamu daftarkan email ettore ferrari penjaga gawang italia gianluigi donnarumma menyapa para penggemar menjelang pertandingan sepak bola grup a uefa euro antara italia dan swiss di stadion olimpiade di roma pada juni posisi kiper jatuh ke penjaga gawang timnas italia gianluigi donnarumma dia adalah pahlawan gli azzurri pada final euro kontra inggris donnarumma melakukan dua penyelamatan pada babak adu penalti vs inggris yang membantu timnas italia juara euro kiper berusia tahun itu juga dinobatkan sebagai pemain terbaik euro berkat ketangguhan dan konsistensinya sepanjang turnamen afp laurence griffiths penampilan kyle walker dalam laga final euro italia vs inggris di stadion wembley london inggris juli dia tak seeksplosif luke shaw dalam menyerang meski dia sejatinya adalah bek sayap kanan namun ketenangannya di belakang membuat gawang inggris aman walker hanya sekali absen sejak penyisihan grup hingga final euro kali bermain dia membantu the three lions mencatatkan lima cleansheet beruntun dalam turnamen baca juga pesan ibrahimovic untuk donnarumma usai italia juara euro shaun botterill uefa london inggris juli bek italia leonardo bonucci melakukan duel dalam laga semifinal euro melawan spanyol di stadion wembley juli tembok pertahanan timnas italia bersama rekan duetnya giorgio chiellini bonucci membuat italia tak pernah kebobolan lebih dari satu gol dalam satu laga selama euro bek juventus itu menjadi man of the match pada final euro berkat penampilan apiknya dan sumbangan satu golnya afp andy rain harry maguire merayakan gol kedua inggris ke gawang jerman pada pertandingan babak besar euro yang dilangsungkan di stadion wembley london pada selasa malam wib foto andy rain pool afp bek manchester united ini sempat absen pada dua laga awal inggris di euro karena masalah kebugaran namun setelah itu dia selalu menjadi pilihan utama di lini pertahanan inggris berduet dengan john stones maguire mencatatkan lima penampilan di euro dengan kontribusi satu gol baca juga rayakan gelar juara euro italia pemain incaran mu merokok di ruang ganti mike hewitt bek italia leonardo spinazzola memegang bola selama pertandingan sepak bola grup a uefa euro antara turki dan italia di stadion olimpiade di roma pada juni leonardo spinazzola mesti mengakhiri euro lebih cepat dia terhenti pada perempat final saat italia menghadapi belgia penyebabnya adalah cedera tendon achilles sebelum menyerah karena cedera spinazzola adalah pilihan utama di pos bek kiri italia dia menyumbang dua assist untuk gli azzurri selama euro statistik menarik lainnya spinazzola adalah pemain dengan lari tercepat di turnamen kilometer per jam twitter dbulandshold gelandang timnas denmark pierre emile hojbjerg berpose usai laga kualifikasi piala dunia melawan austria pada april nyawa lini tengah timnas denmark yang membawa tim dinamit sampai ke semifinal sebelum dikalahkan inggris gelandang tottenham hotspur itu menyumbang tiga assist untuk negaranya sepanjang euro baca juga giorgio chiellini di usia senja cedera parah bangkit lalu pimpin italia juara euro shaun botterill uefa london inggris juni gelandang italia jorginho mengoper bola dalam laga besar euro melawan austria di stadion wembley pada juni perannya seolah tidak terlihat tetapi gelandang berdarah brasil ini adalah pemain tak tergantikan di lini tengah timnas italia jorginho menjadi pemain paling sibuk di euro dan selalu tampil sejak penyisihan grup area jelajahnya mencapai kilometer fran santiago uefa sevilla spanyol juni gelandang spanyol pedri beraksi dalam laga grup e euro melawan polandia di estadio la cartuja sevilla pada juni gelandang barcelona tahun ini menjadi pemain muda terbaik euro dia mampu menggeser pemain senior thiago alcantara di lini tengah spanyol tidak ada gol dan assist yang diciptakan pedri namun rasio operannya hebat yakni persen dia melakukan umpan sukses dari percobaan afp carl recine gelandang serang italia federico chiesa berselebrasi setelah mencetak gol pertama tim dalam laga semifinal euro antara italia vs spanyol di stadion wembley london pada juli chiesa adalah sayap paling eksplosif timnas italia dia selalu bermain dalam tujuh laga sejak penyisihan grup hingga final baca juga usai italia juara euro bonucci ajak chiellini main di piala dunia selama euro winger juventus itu menyumbangkan dua gol untuk gli azzurri satu lagi chiesa adalah pemain tercepat kedua km jam italia setelah spinazzola afp anton vaganov romelu lukaku dalam pertandingan grup b euro antara belgia dan finlandia di stadion saint petersburg rusia juni romelu lukaku mencetak empat gol untuk timnas belgia sayangnya dia tidak bisa melaju jauh perjalanannya bersama de rode duivels hanya sampai perempat final john sibley afp penyerang inggris raheem sterling kiri berselebrasi setelah mencetak gol dalam laga babak besar euro antara inggris vs jerman di stadion wembley selasa sterling selalu bermain dalam tujuh laga inggris sejak penyisihan grup hingga final kontribusinya adalah tiga gol dan satu assist untuk tim tiga singa starting xi euro versi uefa gianluigi donnarumma kyle walker leonardo bonucci harry maguire leonardo spinazzola pierre emile hojbjerg jorginho pedri federico chiesa romelu lukaku raheem sterling introducing the official team of the tournament for euro who would be your captain pic twitter com gogliqqzj\n",
      "\n"
     ]
    }
   ],
   "source": [
    "import numpy as np\n",
    "def get_similar_articles(q, df):\n",
    "  print(\"query:\", q)\n",
    "  print(\"Berikut artikel dengan nilai cosine similarity tertinggi: \")\n",
    "  # Convert the query become a vector\n",
    "  q = [q]\n",
    "  q_vec = vectorizer.transform(q).toarray().reshape(df.shape[0],)\n",
    "  sim = {}\n",
    "  # Calculate the similarity\n",
    "  for i in range(10):\n",
    "    sim[i] = np.dot(df.loc[:, i].values, q_vec) / np.linalg.norm(df.loc[:, i]) * np.linalg.norm(q_vec)\n",
    "  \n",
    "  # Sort the values \n",
    "  sim_sorted = sorted(sim.items(), key=lambda x: x[1], reverse=True)\n",
    "  # Print the articles and their similarity values\n",
    "  for k, v in sim_sorted:\n",
    "    if v != 0.0:\n",
    "      print(\"Nilai Similaritas:\", v)\n",
    "      print(documents_clean[k])\n",
    "      print()\n",
    "# Add The Query\n",
    "q1 = input()\n",
    "# Call the function\n",
    "get_similar_articles(q1, df)"
   ]
  },
  {
   "cell_type": "code",
   "execution_count": null,
   "metadata": {},
   "outputs": [],
   "source": []
  }
 ],
 "metadata": {
  "kernelspec": {
   "display_name": "Python 3",
   "language": "python",
   "name": "python3"
  },
  "language_info": {
   "codemirror_mode": {
    "name": "ipython",
    "version": 3
   },
   "file_extension": ".py",
   "mimetype": "text/x-python",
   "name": "python",
   "nbconvert_exporter": "python",
   "pygments_lexer": "ipython3",
   "version": "3.8.5"
  }
 },
 "nbformat": 4,
 "nbformat_minor": 4
}
