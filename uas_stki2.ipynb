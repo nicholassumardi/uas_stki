{
 "cells": [
  {
   "cell_type": "code",
   "execution_count": 1,
   "metadata": {},
   "outputs": [],
   "source": [
    "import requests\n",
    "from bs4 import BeautifulSoup\n",
    "# Make a request to the website\n",
    "r = requests.get('https://tasikmalaya.pikiran-rakyat.com/')\n",
    "# Create an object to parse the HTML format\n",
    "soup = BeautifulSoup(r.content, 'html.parser')\n",
    "# Retrieve all popular news links (Fig. 1)\n",
    "link = []\n",
    "for i in soup.find('div', {'class':'most__wrap'}).find_all('a'):\n",
    "    i['href'] = i['href'] + '?page=all'\n",
    "    link.append(i['href'])\n",
    "# For each link, we retrieve paragraphs from it, combine each paragraph as one string, and save it to documents (Fig. 2)\n",
    "documents = []\n",
    "for i in link:\n",
    "    # Make a request to the link\n",
    "    r = requests.get(i)\n",
    "  \n",
    "    # Initialize BeautifulSoup object to parse the content \n",
    "    soup = BeautifulSoup(r.content, 'html.parser')\n",
    "  \n",
    "    # Retrieve all paragraphs and combine it as one\n",
    "    sen = []\n",
    "    for i in soup.find('article', {'class':'read__content'}).find_all('p'):\n",
    "        sen.append(i.text)\n",
    "  \n",
    "    # Add the combined paragraphs to documents\n",
    "    documents.append(' '.join(sen))"
   ]
  },
  {
   "cell_type": "code",
   "execution_count": 2,
   "metadata": {},
   "outputs": [],
   "source": [
    "import re\n",
    "import string\n",
    "documents_clean = []\n",
    "for d in documents:\n",
    "    # Remove Unicode\n",
    "    document_test = re.sub(r'[^\\x00-\\x7F]+', ' ', d)\n",
    "    # Remove Mentions\n",
    "    document_test = re.sub(r'@\\w+', '', document_test)\n",
    "    # Lowercase the document\n",
    "    document_test = document_test.lower()\n",
    "    # Remove punctuations\n",
    "    document_test = re.sub(r'[%s]' % re.escape(string.punctuation), ' ', document_test)\n",
    "    # Lowercase the numbers\n",
    "    document_test = re.sub(r'[0-9]', '', document_test)\n",
    "    # Remove the doubled space\n",
    "    document_test = re.sub(r'\\s{2,}', ' ', document_test)\n",
    "    documents_clean.append(document_test)"
   ]
  },
  {
   "cell_type": "code",
   "execution_count": 3,
   "metadata": {},
   "outputs": [],
   "source": [
    "from sklearn.feature_extraction.text import TfidfVectorizer\n",
    "import pandas as pd\n",
    "# Instantiate a TfidfVectorizer object\n",
    "vectorizer = TfidfVectorizer()\n",
    "# It fits the data and transform it as a vector\n",
    "X = vectorizer.fit_transform(documents_clean)\n",
    "# Convert the X as transposed matrix\n",
    "X = X.T.toarray()\n",
    "# Create a DataFrame and set the vocabulary as the index\n",
    "df = pd.DataFrame(X, index=vectorizer.get_feature_names())"
   ]
  },
  {
   "cell_type": "code",
   "execution_count": 7,
   "metadata": {},
   "outputs": [
    {
     "name": "stdout",
     "output_type": "stream",
     "text": [
      " Input Words = rizky\n",
      "query: rizky\n",
      "Berikut artikel dengan nilai cosine similarity tertinggi: \n",
      "Nilai Similaritas: 0.29617965102266913\n",
      " pr tasikmalaya lesti kejora dan rizky billar tinggal selangkah lagi untuk mewujudkan pernikahan sebagaimana diketahui sebelumnya rizky billar dan lesti kejora telah melangsungkan prosesi lamaran pada minggu juni siapa sangka berawal dari pertemuan di acara tukul arwana rizky billar dan lesti kejora kini telah siap untuk memasuki gerbang pernikahan baca juga cerita istri yang hamil bulan meninggal karena covid roni minta baim wong doakan masuk surga meski awalnya banyak yang menduga bahwa hubungan rizky billar dan lesti kejora hanya rekayasa semata namun saat ini terbukti bahwa tudingan terhadap rizky billar dan lesti kejora tidak benar adanya hal tersebut terbantahkan dengan rizky billar dan lesti kejora yang sebentar lagi akan melangsungkan pernikahan baca juga ikatan cinta juli berhasil dipolisikan oleh al dan andin elsa manfaatkan mama sarah lesti kejora pernah mengatakan bahwa dirinya yakin menerima rizky billar karena rizky billar merupakan sosok pria yang dengan kesungguhan hati mengajaknya untuk menikah bahkan hal tersebut dibuktikan rizky billar dengan mendatangi langsung ayah dari lesti kejora bahkan di awal awal pertemuan mereka bahkan menurut husein selaku sahabat rizky billar aura rizky billar dan lesti kejora sangat cocok baca juga ragukan vaksinasi covid bisa cegah penularan varian baru denny darko tetapi tetap jalan terbaik melihat hal tersebut husein berdoa jika rizky billar dan lesti kejora adalah jodoh maka tolong didekatkan dan ternyata doa husein tersebut terwujud bahkan husein menuturkan dirinya merasa sangat bahagia ketika melihat rizky billar dan lesti kejora melangsungkan prosesi lamaran namun beredar kabar jika pernikahan rizky billar dan lesti kejora tidak jadi dilaksanakan baca juga kini jadi musisi papan atas ariel noah ternyata pernah rekaman pakai speaker tv dan mik karaoke batalnya pernikahan rizky billar dan lesti kejora karena mundurnya waktu acara hal tersebut berkaitan dengan kebijakan pemerintah yang menerapkan pemberlakuan pembatasan kegiatan masyarakat ppkm darurat di pulau jawa dan bali lantas kapan rizky billar dan lesti kejora secara pasti akan melangsungkan prosesi pernikahan baca juga ashanty takut pergi ke rs untuk kontrol penyakitnya tak tega lihat pasien yang lebih parah kena covid kalau jadwal pengundurannya ya tinggal nunggu aja sih tutur husein seperti yang dikutip pikiranrakyat tasikmalaya com dari kanal youtube esge entertainment yang diunggah minggu juli husein mengatakan tanggal resmi pernikahan rizky billar dan lesti kejora akan menyesuaikan dengan kebijakan ppkm darurat kalau jadwal pengundurannya ya tinggal nunggu aja sih soalnya kita kan enggak tahu kapan ppkm ini akan selesainya ujar husein baca juga menghilang jelang pernikahan dengan lesti kejora rizky billar sebut tak ingin diganggu nggak usah bisa jadi diperpanjang bisa jadi enggak lihat kondisi sambung husein husein kemudian berharap semoga ketika rizky billar dan lesti kejora telah mendapatkan tanggalnya semuanya berjalan lancar mudah mudahan nanti pas sudah dapat tanggalnya mudah mudahan lancar acaranya mudah mudahan enggak ppkm lagi pungkasnya \n",
      "\n",
      "Nilai Similaritas: 0.02362422149131576\n",
      " pr tasikmalaya arya saloka dikenal sebagai sosok selebriti yang bergelimang harta walaupun begitu sang istri dari arya saloka yakni putri anne diketahui enggan memakai jasa pembantu belakangan ini putri anne istri arya saloka membeberkan alasannya mengapa tidak mau pakai jasa pembantu baca juga rizky billar dan lesti kejora tak jadi menikah sahabat ungkap fakta mengejutkan pundi pundi kekayaan arya saloka memang sudah tidak diragukan lagi sejak membintangi sinetron ikatan cinta suami dari putri anne ini makin melejit namanya di luar itu arya saloka kerap kebanjiran pekerjaan seperti syutig iklan dan lain lain baca juga ashanty ucap rasa terima kasihnya untuk para nakes yang berjuang siang malam demi rawat pasien covid meski begitu kehidupan keluarga arya saloka terlihat sangat sederhana bahkan keluarga selebriti ini sangat jarang memamerkan kekayaannya kepada publik belakangan ini putri anne menjelaskan ke publik alasan dirinya tidak mau memakai jasa pembantu baca juga ungkap alasan tak kunjung meresmikan hubungan dengan ivan gunawan ayu ting ting aku takut saat itu dirinya sedang ditanya oleh warganet terkait mengapa putri anne dirumahnya tidak memakai pembantu mamamiw kenapa nggak pakai mbak aja biar bisa bantu nyuci gosok tanya warganet setelah melihat pertanyaan tersebut lantas putri anne segera menanggapinya baca juga niat sentil jokowi yang fokus pada ibu kota baru daripada covid andi arief justru diserang balik netizen bagi keluarganya seorang pembantu tidak terlalu penting pasalnya ia masih bisa bekerja sendiri dengan mensyukuri pemberian tuhan punya tangan kaki alhamdulillah sehat kerja sendiri aja ujar putri anne dikutip pikiranrakyat tasikmalaya com lewat unggahan instagram pada juli baca juga amati ekspresi billy syahputra bicara soal mantan poppy amalya kenapa dia sedih ya ingat si cuitan putri anne instagram com \n",
      "\n",
      "Nilai Similaritas: 0.01915377461402271\n",
      " pr tasikmalaya link live streaming dan sinopsis ikatan cinta malam ini senin juli bisa kamu temukan dalam artikel ini di episode ikatan cinta hari ini akan menceritakan tentang al dan andin membongkar bukti bukti pembunuhan roy di depan semua orang al dan andin mengajak papa surya dan mama sarah untuk memperlihatkan barang bukti yang menunjukan bahwa elsa adalah pembunuh roy didepan mamachan dan nino baca juga seni lukis korea yang terpengaruh gaya barat tiongkok dan jepang di abad elsa tetap mengelak dan mengatakan itu adalah editan ketika al dan andin menunjukkan sebuah video pengakuan roy yang telah menidurinya namun al dan andin masih memiliki bukti lain tentang foto mobil merah elsa yang keluar dari cluster nirwana apakah elsa mampu berkelit lagi atau malah mati kutu baca juga member jkt ini kepergok gunakan tas gucci bernilai puluhan juta rupiah jika soal video bisa saja elsa mengelak bahwa roy telah mengada ngada dan kurang kuat buktinya selanjutnya foto mobil merah elsa pun bisa berdalih bahwa mobilnya sedang dipinjam orang lain pada saat itu apakah bukti seperti anting foto mama sarah majalah lipstik kesaksian daniel hingga pembobolan email roy akan diungkapkan oleh al baca juga bocoran drakor at a distance spring is green episode yeo joon datangi kim so bin ada apa namun jika memang terpojok elsa pun sepertinya akan memposisikan dirinya sebagai korban roy elsa akan mengatakan bahwa roy tidak bertanggung jawab dan hanya membela diri apakah permasalahan di episode malam ini akan berujung damai atau al berhasil menjerat elsa ke penjara baca juga ungkap masa kecil rizky billar dan kelima kakaknya dari rajin ngaji hingga saling sikut jadi artis satu satunya yang bisa menyelamatkan elsa hanyalah ricky untuk saat ini apakah ricky akan dijadikan alat untuk elsa balas dendam kepada al dan andin ya mengingat ricky sempat memberikan tawaran elsa untuk pergi keluar negeri dan memulai hidup baru bersamanya baca juga ini alasan fenomena hallyu atau korean wave pesat di indonesia kamu salah satunya jika konflik elsa sudah menemui titik akhir episode ikatan cinta sepertinya papah jenifer akan mengambil alih konflik cerita elsa berperan seorang pengusaha besar papa jenifer bisa diposisikan sebagai musuh lama atau pesaing bisnis keluarga al fahri jika benar mungkinkah kedekatan rendy dengan al akan dimanfaatkan papah jenifer untuk menghancurkan bisnis keluarga al fahri penasaran dengan apa yang akan terjadi di ikatan cinta malam ini baca juga jadi janda selama tahun ini penyebab ayu ting ting kesulitan mendapat pasangan kamu bisa saksikan acara kesayanganmu ikatan cinta di rcti malam ini senin juli pukul wib kamu juga bisa menyaksikan sinetron ikatan cinta melalui handphone sambil rebahan di kamar melalui link live streaming rcti di bawah ini klik disini informasi sinopsis ini akan menemukan perbedaan dengan cerita aslinya karena didapat dari sumber yang tidak resmi \n",
      "\n",
      "Nilai Similaritas: 0.016778463297715335\n",
      " pr tasikmalaya tiba tiba presenter kondang raffi ahmad mengakui bahwa dirinya menyukai janda di masa lalu hal tersebut diungkapkan oleh raffi ahmad ketika berbincang dengan roy kiyoshi raffi ahmad blak blakan bahwa dulu menyukai seorang single parent atau seorang janda baca juga heboh jokowi hadir di ulang tahun anak ifan seventeen netizen alhamdulilah bisa hadir pernyataan raffi ahmad itu diungkapkan olehnya dalam kanal youtube trans tv official yang diunggah pada juli saat itu roy kiyoshi sebagai bintang tamu menceritakan bahwa dirinya sedang ldr long distance relationship dengan kekasihnya pertama kali roy kiyoshi juga mengatakan bahwa pacarnya merupakan seorang single parent janda baca juga unggah video mesra lesti kejora dengan rizki da jaman dulu rizky billar ngamuk ke haters munafik anda di surabaya aku di jakarta jadi susah ketemu ujar roy kiyoshi sebagaimana yang dikutip pikiranrakyat tasikmalaya com dari kanal youtube trans tv official yang diunggah pada juli dia seorang single parent sambungnya mendengar pernyataan roy kiyoshi yang memiliki kekasih seorang janda raffi ahmad pun dengan semangat mengatakan sesuatu baca juga bongkar gaya pacaran dul dan tissa biani maia estianty bangga masya allah suka shalat bareng oh janda ucap raffi ahmad dengan nada meninggi mendengar ucapan raffi ahmad yang seakan semangat mendengar kata janda tiba tiba dalam video tertulis kalimat yang ditujukan untuk suami nagita slavina ini semangat bener bos raffi ahmad kalau ngomongin janda tulis tim kreatif trans tv baca juga sebut ada pertimbangan hakim yang memberatkan vicky prasetyo denny darko mungkin dia harus mendekam bulan selain itu sang asisten nagita slavina merry pun mengatakan kepada roy kiyoshi bahwa raffi ahmad menyukai seorang janda sama kaya boss raffi ahmad suka janda ucap merry pada roy kiyoshi mendengar pernyataan dari merry soal dirinya yang menyukai janda tidak ditampik oleh raffi ahmad baca juga jika vicky prasetyo dipenjara selama bulan denny darko menerawang nasib kalina ocktaranny bahkan raffi ahmad dengan polosnya mengakui bahwa hal itu memang benar adanya namun terjadi di masa lalu kan dulu itu timpal raffi ahmad pernyataan tersebut seakan membenarkan isu perihal raffi ahmad yang sempat menjalin asmara dengan ayu ting ting baca juga minta episode sinetron ikatan cinta diperpanjang warganet serbu instagram harry tanoesoedibjo namun raffi ahmad saat itu tidak menjelaskan siapa yang menjadi mantannya di masa lalu karena sebelum menikah dengan nagita slavina pun raffi ahmad pernah menjalin asmara dengan seorang wanita single parent yaitu yuni shara \n",
      "\n",
      "Nilai Similaritas: 0.014800072015037581\n",
      " pr tasikmalaya sinetron ikatan cinta merupakan sinetron yang paling ditunggu tunggu oleh para penonton setianya tentu saja hal tersebut karena sinetron ikatan cinta diperankan oleh para artis dengan kemampuan akting yang sangat luar biasa ditambah lagi sinetron ikatan cinta memiliki alur cerita yang sangat sulit untuk ditebak baca juga menghilang jelang pernikahan dengan lesti kejora rizky billar sebut tak ingin diganggu nggak usah tetapi tenang saja di sini akan diulas sinopsis sinetron ikatan cinta yang akan tayang malam ini senin juli sinetron ikatan cinta malam ini juli menceritakan mimpi sarah akan menjadi sebuah kenyataan sebagaimana telah diketahui sebelumnya bahwa aldebaran telah menghubungi papa surya baca juga raffi ahmad panik rahasia soal wanita yang pernah datangi rumahnya hampir terbongkar aldebaran juga telah berhasil mendapatkan foto sebagai bukti penting dari pak sadikin setelah usaha aldebaran dan andin untuk mendapatkan bukti itu aldebaran pun berhasil mendapatkan bukti tersebut padahal awalnya pak sadikin lupa menyimpan bukti tersebut hingga akhirnya rendy mengingatkan apakah pak sadikin pernah mengunggah foto tersebut di sosial media baca juga dr tirta beberkan pengakuan kemenkes ri faskes indonesia tidak sedang baik baik saja ketika rendy menanyakan hal itu sontak pak sadikin teringat pak sadikin ingat bahwa dirinya pernah mengunggah foto tersebut di sosial media kemudian pak sadikin langsung mencari unggahan foto yang dimaksud oleh aldebaran dan rendy tersebut baca juga sinopsis sinetron ikatan cinta juli fakta elsa dihamili roy gagal dibongkar al kecelakaan benar saja ternyata foto tersebut akhirnya ditemukan di sana selain itu sebelumnya juga aldebaran akhirnya telah melaporkan elsa kepada pihak kepolisian aldebaran dan andin melaporkan elsa atas dugaan elsa yang terlibat dalam kasus pembunuhan roy tapi ternyata semua itu hanya mimpi mama sarah semata baca juga ivan gunawan rela nabung rp miliar demi mahar ayu ting ting mbah mijan ketulusan igun boleh diperhitungkan mama sarah juga bermimpi bahwa elsa dilecehkan oleh mantan manajernya ferry ternyata mimpi mama sarah itu benar adanya karena nantinya mimpi mama sarah tersebut akan menjadi kenyataan kali ini mimpi mama sarah yang menjadi kenyataan terkait dengan elsa yang akhirnya dijebloskan kedalam penjara baca juga disinggung soal janda oleh roy kiyoshi raffi ahmad blak blakan akui pernah pacari ayu ting ting di masa lalu pasalnya andin dan juga aldebaran setelah yakin dengan semua bukti yang ada membawa semua bukti tersebut ke kantor polisi berawal ketika andin dan aldebaran yang tiba tiba datang ke rumah nino nino benar benar tidak terima karena menilai andin dan aldebaran telah menghancurkan pernikahannya baca juga olimpiade tokyo dicap sebagai bukti runtuhnya moral manusia penyelenggara malah bahas kebersamaan elsa pun bahkan terlihat sangat sinis kepada aldebaran dan andin aldebaran kemudian meminta kepada nino untuk mengumpulkan semua keluarga ternyata di sana aldebaran langsung membongkar semua kejahatan elsa baca juga terungkap ternyata segini harga tote bag yang diberikan maia estianty untuk kekasih dul jaelani tissa biani aldebaran juga akan memberi tahu semua kenyataan terkait dengan andin sebagaimana diketahui sebelumnya andin mengalami penderitaan karena ulah kejahatan elsa aldebaran menegaskan bahwa andin sama sekali tidak pernah berselingkuh dengan nino baca juga kerap alami gangguan tidur berikut tips untuk mengatasinya agar kualitas tidur terjaga selain itu aldebaran juga mengatakan bahwa reyna merupakan anak kandung andin lantas bagaimana kelanjutan kisah cerita sinetron ikatan cinta berikutnya saksikan terus sinetron ikatan cinta malam ini senin juli hanya di rcti baca juga disebut anak setan roy kiyoshi cerita pernah dibully gila ya menderita banget gue disclaimer sinopsis sinetron ikatan cinta ini bisa saja berbeda dengan tayangan di sinetron ikatan cinta yang tayang malam ini senin juli karena sinopsis sinetron ikatan cinta ini disusun dari sumber yang tidak resmi \n",
      "\n",
      "Nilai Similaritas: 0.012167469321828953\n",
      " pr tasikmalaya penayangan sinetron ikatan cinta tadi malam menyuguhkan cerita yang mengasyikan pasalnya di sinetron ikatan cinta kebusukan elsa mulai terbongkar adapun kebusukan yang terbongkar di sinetron ikatan cinta sayang bila terlewatkan baca juga menangis sesenggukan karena ulah netizen lesti kejora berurai air mata kenapa mereka lebih ribet namun jika para penggemar ketinggalan episode seru seputar sinetron ikatan cinta tadi malam tidak perlu khawatir pikiranrakyat tasikmalaya com menyuguhkan cuplikan tayangan sinetron ikatan cinta tadi malam dan sinopsis nya elsa mulai berubah pagi pagi dia sudah membuat hidangan untuk nino baca juga viral penampakan tangan dimakam jane shalimar elisya olive beberkan kronologinya ada sedihnya ada lucunya dipuji karena rasa buburnya enak elsa tidak tahu bahwa posisi dirinya kini benar benar terancam pasalnya al dan andin sedang menuju kediaman nino membawa sejumlah bukti dan berniat membongkar semuanya meski andin masih ada sejumlah keraguan terkait kesehatan papa surya namun al mencoba meyakinkan baca juga diminum fadli zon hingga susi pudjiastuti ini penjelasan soal jamu wedang uwuh masih kepikiran andin akhirnya chat papa surya untuk memastikan bahwa dirinya akan tetap sehat meski rahasia elsa dibongkar mama sarah yang kepo dengan chat dari andin akhirnya segera menghubungi elsa di sisi lain andin dan al membuat laporan ke kepolisian terkait rencananya membongkar semua kebusukan elsa baca juga sering dibandingkan dengan mantan rizky billar lesti kejora menangis kenapa menilai dede dari fisiknya saja sementara itu sesampainya papa surya di rumah nino sang menantu menjelaskan soal kelicikan ricky yang menjebak elsa papa surya bersyukur melihat nino dan elsa sudah kembali rujuk papa surya juga mengingatkan agar nino jangan mudah termakan fitnah dari ricky sehingga rumah tangga mereka langgeng baca juga soroti masuknya tka tiongkok saat ppkm darurat mardani ali sera alasan apapun sebaiknya ditunda dulu tengah asyik mengobrol tiba tiba al dan andin datang ke rumah nino di sana al mulai beraksi al membicarakan soal kematian roy di masa lalu dan sejumlah buktinya elsa mulai mengamuk dan meminta al beserta andin pergi dari rumah nino mama sarah dan papa surya sudah tegang dengan kedatangan al keduanya menunduk malu baca juga klarifikasi video syur detik diduga nathalie holscher sule menangis aku harus terima sedangkan elsa justru terus membela diri dan ketakutan dan terus meminta andin dan al keluar rumah mama sarah menahan elsa agar tidak mengusir al dan andin namun elsa justru mengamuk nino akhirnya mengambil sikap tegas meminta elsa duduk segera dan meminta al dan andin menjelaskan suaminya bu chandra setuju dengan nino meminta elsa untuk diam dan tidak perlu bereaksi berlebihan soal elsa baca juga teddy gusnaidi tantang pimpinan partai demokrat gue tunggu nyali ahy dan sby turun ke jalan akhirnya video pengakuan roy menghamili elsa dikirim ke ponsel papa surya dan ditonton secara bersama sama roy menceritakan bahwa dirinya dan elsa pergi ke cabana night malam itu dan terjadilah peristiwa terkutuk elsa benar benar stres usai terpojok dengan pengakuan roy soal kehamilan elsa sama halnya dengan elsa nino terpuruk mendengar pengakuan al dan andin baca juga netizen sebut anaknya berotak lemot shandy aulia tidak mau bandingkan anak saya dengan anak lain elsa lantas ngamuk di depan andin dan al karena keduanya membongkar semua kebusukan di masa lalu seolah tak peduli dengan amukan elsa andin membocorkan kronologinya jaman dulu saat itu roy dan elsa pergi ke cabana night karena frustrasi andin dan nino menikah melanjutkan al memperlihatkan foto di mana elsa menunggangi mobil berwarna merah saat membunuh roy baca juga sang anak disebut kurang gizi shandy aulia bukan untuk balas dendam tapi memang perlu direspon mobil yang sangat dikenal betul oleh nino mama sarah hingga papa surya karena selepas pembunuhan elsa mengganti warna mobilnya tidak hanya itu anting elsa di masa lalu juga diperlihatkan andin anting tersebut ditemukan di lokasi kejadian saat elsa membunuh roy sempat diakui mama sarah ternyata anting tersebut adalah milik elsa baca juga menkes budi gunadi sadikin pemerintah akan suplai ton tabung oksigen per hari selama ppkm sinopsis ikatan cinta juli elsa semakin terpojok kini posisinya terancam semua kebohongan mulai terbongkar soal anting mobil hingga semua hal tentang elsa akhirnya diungkap al dan andin nino ngamuk mendengar semua penjelasan elsa akhirnya dia membanting hape yang dipegangnya dan menjatuhkan talak kepada elsa talak jatuh di depan al andin dan mama sarah \n",
      "\n",
      "Nilai Similaritas: 0.010027465100487595\n",
      " pr tasikmalaya ramai kabar tuntutan dari angel lelga kepada vicky prasetyo yang menyebutkan bahwa dirinya merasa dicemarkan nama baiknya vicky prasetyo dengan angel lelga yang sempat menjalani biduk rumah tangga nyatanya kini saling sikut menyikut melaporkan masing masing pihak belum lama ini angel lelga juga menuntut vicky prasetyo yang berujung muncul tuntutan bulan penjara untuk mantan suaminya itu baca juga terawang kasus covid setelah idul adha sangat menyeramkan denny darko beri saran ikuti ppkm darurat vicky prasetyo yang kini tengah menjalani hidup sebagai seorang suami dari kalina ocktaranny itu disebut sebut juga sedang menyiapkan pleidoi atau pembelaan atas tuntutan angel lelga sebelumnya hubungan vicky prasetyo dengan angel lelga menjadi hal yang menghebohkan akibat buntut penggerebekan yang dilakukan vicky prasetyo saat itu dan mendapati angel lelga tengah berduaan di dalam kamar dengan seorang laki laki hal tersebut menarik perhatian magician denny darko dirinya turut prihatin dengan kondisi hubungan vicky prasetyo dengan angel lelga baca juga ngamuk saat tahu ada akun yang sebut dirinya selingkuh rizky billar kan bodoh ya menurut ramalan kartu tarotnya angel lelga sebetulnya mencintai vicky prasetyo dengan tulus bahkan menerawang masa masa awal hubungan mereka namun usut punya usut denny darko melihat ada kejanggalan dari hubungan mereka saat penggerebekan yang dilakukan vicky prasetyo saat itu pasalnya angel lelga pun setelah kejadian tersebut melewati serangkaian tes dan tidak terbukti bahwa dirinya telah melakukan perzinahan dengan lelaki yang saat itu berada bersamanya baca juga foto terbaru nissa sabyan disebut bantah isu hamil buah hati ayus warganet ramai ramai beri komentar begini denny darko juga menjelaskan bahwa ia melihat angel lelga pada awal menjalin hubungan dengan vicky prasetyo sangat tulus dan berharap bahwa hubungan mereka akan berjalan dengan mulus hingga pada akhirnya angel lelga merasa kecewa dengan sikap vicky prasetyo yang tiba tiba menggerebeknya saat itu bahkan membawa media dan beberapa keluarga vicky prasetyo juga baca juga dijanjikan rumah oleh raffi ahmad merry sang asisten lama banget sih jangan php doang dirinya merasa itu merupakan sebuah tindakan yang tidak sepatutnya dilakukan oleh seorang suami terhadap istrinya dilansir pikiranrakyat tasikmalaya com dari kanal youtube denny darko yang diunggah pada juli ia menjelaskan alasan angel lelga menuntut vicky prasetyo denny darko membuka kartu nine of cup yang menunjukkan ada rasa sakit hati yang dirasakan angel lelga baca juga pasca kasus dengan ayus nissa sabyan unggah foto produk warganet sepi job ia pun menjelaskan bahwa angel lelga seperti merasa menjadi orang yang dijebak lalu dikecewakan denny darko menyampaikan juga bahwa kesakit hatian yang dirasakan angel lelga tersebut cukup berat bahkan menyangkut keluarga vicky prasetyo angel lelga sempat ingin melaporkan juga pihak keluarga vicky prasetyo namun ia tetap fokus kepada rasa kecewanya terhadap mantan suaminya itu baca juga selama berumah tangga dengan arya saloka putri anne tak mau dirumahnya ada pembantu kenapa tapi denny darko melihat bahwa angel lelga sebetulnya tidak ingin melaporkan vicky prasetyo karena angel lelga memiliki tenggang rasa khusus kepada vicky prasetyo dapat dikatakan denny darko melihat ketulusan cinta angel lelga saat dirinya memiliki hubungan dengan vicky prasetyo saat itu namun akhirnya ia harus melaporkan vicky prasetyo karena itu adalah bentuk pembelaan dirinya terhadap pelaporan pertama yang dilakukan vicky prasetyo saat itu baca juga tak kunjung nikah ayu ting ting sebut trauma hingga ungkap alasan susah didekati pria nggak ada yang berani akhir kata denny darko memberikan imbauan untuk netizen agar tidak mengeluarkan komentar negatif kepada kedua belah pihak \n",
      "\n",
      "Nilai Similaritas: 0.007208876104982027\n",
      " pr tasikmalaya tes kepribadian kali ini dapat mengungkap ciri karakter seseorang melalui bulan kelahiran setiap bulan kelahiran dicirikan dengan simbol tertentu dan simbol tersebut dapat mengungkapkan tentang kepribadian kamu salah satu yang dapat diungkapkan dari bulan kelahiran adalah kamu merupakan sosok pemberani baca juga ungkap alasan tak kunjung meresmikan hubungan dengan ivan gunawan ayu ting ting aku takut seperti dikutip pikiranrakyat tasikmalaya com dari buzz quiz berikut penjelasan setiap bulan kelahiran terkait kepribadian januari bulan kelahiran januari disimbolkan dengan naga artinya kamu adalah orang yang diikuti semua orang kamu berkemauan keras dan berpotensi untuk melewati apapun yang menghalangi kamu baca juga kini heboh w gugat rezky aditya sisi lain citra kirana pilih bela suami dibanding sahabat dibongkar namun jagalah emosi kamu itu mungkin sedikit masalah karena marah bukanlah solusi yang baik untuk semuanya februari bulan kelahiran februari disimbolkan dengan phoenix kamu bangkit lebih kuat dan lebih berkuasa kamu memiliki kepribadian yang sangat ulet dan itu merupakan kekuatan utama kamu baca juga merinding saat melihat tangga rumah raffi ahmad roy kiyoshi agak seram ya maret bulan kelahiran maret disimbolkan dengan yin yang kamu mencari keseimbangan dalam segala hal dan selalu mempertimbangkan sisi baik dan buruk setiap orang kamu memiliki pendekatan positif terhadap kehidupan dan situasi namun kamu cenderung hanya mempertimbangkan yang baik selalu bernegosiasi dan memecahkan masalah berhati hatilah sedikit karena beberapa orang terlalu beracun untuk menjadi baik baca juga niat sentil jokowi yang fokus pada ibu kota baru daripada covid andi arief justru diserang balik netizen april bulan kelahiran april disimbolkan dengan singa kamu dipenuhi dengan semangat yang luar biasa kamu sangat berani dan sangat giat kamu mampu melewati setiap tantangan dan setia pada inti tantangan tersebut kamu juga siap mempertarukan hidup kamu untuk melindungi orang yang kamu cintai baca juga hasil race f gp austria max verstappen meraih kemenangan kelimanya di musim ini mei bulan kelahiran mei disimbolkan dengan serigala diartikan sebagai pemimpin kelompok tapi terkadang kamu suka menyendiri dan sering tidak keberatan untuk tetap berada dalam bayang bayang kamu selalu ada untuk orang yang kamu cintai dan mereka yang mengancam untuk menyakitinya mereka harus menghadapi kamu baca juga akui sering pergoki sule dapat dm dari cewek nathalie holscher capek juga juni bulan kelahiran juni disimbolkan dengan ikan kamu sangat riang dan yang kamu peduliakan adalah kebebasan kamu menghindari tanggung jawab tetapi itu terlalu tidak realistis untuk kamu jangan abaikan naluri kamu karena itu adalah kekuatan terbesar kamu juli baca juga harmoko meninggal tifatul sembiring sampaikan duka mendalam untuk mantan menteri penerangan di era soeharto bulan kelahiran juli disimbolkan dengan api artinya kamu selalu dibimbing oleh gairah dan jika ad sesuatu yang penting bagi kamu tidak ada jalan untuk melihat kebelakang baik itu karir hubungan atau hal yang kamu sukai semuanya intens hanya untul kamu namun kamu perlu menjaga gairah itu agar tidak berubah jadi obsesi agustus bulan kelahiran agustus disimbolkan dengan kuda kamu berjiwa bebas dan selalu memulai petualangan baca juga ashanty takut pergi ke rs untuk kontrol penyakitnya tak tega lihat pasien yang lebih parah kena covid kamu juga menghargai etika kerja kamu percaya pada diri sendiri dan kamu akan melakukan perjalanan panjang dalam hidup kamu september bulan kelahiran september disimbolkan dengan bunga artinya ketenangan dan kedamaian kamu membawa keindahan ke dunia biasa ini kehangatan yang kamu pancarkan membuat orang beristirahat sejenak dari kehidupan yang serba cepat dan menikmati ketenangan baca juga rizky billar dan lesti kejora tak jadi menikah sahabat ungkap fakta mengejutkan oktober bulan kelahiran oktober disimbolkan dengan bintang kamu adalah cahaya penuntun semua orang selalu menunjukan jalan kepada orang lain sukses bagi kamu bukan tentang diri kamu sendiri tetapi tentang bagaimana kamu menginspirasi orang lain namun kamu perlu memluangkan waktu untuk diri kamu sendiri juga dan berlatih sedikit cinta diri agar kamu tidak kelelahan baca juga simak tips ampuh gunakan masker yang benar agar tak tertular covid berikut ini november bulan kelahiran november disimbolkan dengan pohon artinya kamu adalah sistem pendukung bagi semua orang kamu memberi perlindungan dan menyediakan segalanya untuk orang lain seperti pohon tapi tidakkah kamu berpikir kamu juga perlu memberi air ke akar kamu sendiri baca juga tes kepribadian kacamata yang dipilih ungkap ciri kepribadianmu salah satunya optimis desember bulan kelahiran desember disimbolkan dengan air seperti air kamu dapat berprilaku sesuai situasi yang dihadapi kamu bisa menjadi orang yang tenang di antara teman teman kamu tetapi apabila dipicu badai kamu bisa berbahaya seperti ombak yang bergejolak semua bersiap untuk menghadapi apapun yang menghalangi kamu \n",
      "\n"
     ]
    }
   ],
   "source": [
    "import numpy as np\n",
    "def get_similar_articles(q, df):\n",
    "  print(\"query:\", q)\n",
    "  print(\"Berikut artikel dengan nilai cosine similarity tertinggi: \")\n",
    "  # Convert the query become a vector\n",
    "  q = [q]\n",
    "  q_vec = vectorizer.transform(q).toarray().reshape(df.shape[0],)\n",
    "  sim = {}\n",
    "  # Calculate the similarity\n",
    "  for i in range(10):\n",
    "    sim[i] = np.dot(df.loc[:, i].values, q_vec) / np.linalg.norm(df.loc[:, i]) * np.linalg.norm(q_vec)\n",
    "  \n",
    "  # Sort the values \n",
    "  sim_sorted = sorted(sim.items(), key=lambda x: x[1], reverse=True)\n",
    "  # Print the articles and their similarity values\n",
    "  for k, v in sim_sorted:\n",
    "    if v != 0.0:\n",
    "      print(\"Nilai Similaritas:\", v)\n",
    "      print(documents_clean[k])\n",
    "      print()\n",
    "# Add The Query\n",
    "q1 = input(\" Input Words = \")\n",
    "# Call the function\n",
    "get_similar_articles(q1, df)"
   ]
  },
  {
   "cell_type": "code",
   "execution_count": null,
   "metadata": {},
   "outputs": [],
   "source": []
  }
 ],
 "metadata": {
  "kernelspec": {
   "display_name": "Python 3",
   "language": "python",
   "name": "python3"
  },
  "language_info": {
   "codemirror_mode": {
    "name": "ipython",
    "version": 3
   },
   "file_extension": ".py",
   "mimetype": "text/x-python",
   "name": "python",
   "nbconvert_exporter": "python",
   "pygments_lexer": "ipython3",
   "version": "3.8.5"
  }
 },
 "nbformat": 4,
 "nbformat_minor": 4
}
